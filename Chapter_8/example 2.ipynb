
{
  "nbformat": 4,
  "nbformat_minor": 0,
  "metadata": {
    "colab": {
      "provenance": []
    },
    "kernelspec": {
      "name": "python3",
      "display_name": "Python 3"
    },
    "language_info": {
      "name": "python"
    }
  },
  "cells": [
    {
      "cell_type": "markdown",
      "source": [
        "# Một số hàm xử lý trên Tensor"
      ],
      "metadata": {
        "id": "MHsoRj38wtp4"
      }
    },
    {
      "cell_type": "code",
      "source": [
        "import tensorflow as tf"
      ],
      "metadata": {
        "id": "60Yd7H-KxJQ2"
      },
      "execution_count": null,
      "outputs": []
    },
    {
      "cell_type": "code",
      "execution_count": null,
      "metadata": {
        "colab": {
          "base_uri": "https://localhost:8080/"
        },
        "id": "k_XjAsyBwqRo",
        "outputId": "03e31475-789c-4baa-e890-2326544af35e"
      },
      "outputs": [
        {
          "output_type": "stream",
          "name": "stdout",
          "text": [
            "[0.16513085 0.9014813  0.6309742  0.4345461  0.29193902 0.64250207]\n"
          ]
        },
        {
          "output_type": "execute_result",
          "data": {
            "text/plain": [
              "[array([0.16513085, 0.9014813 ], dtype=float32),\n",
              " array([0.6309742, 0.4345461], dtype=float32),\n",
              " array([0.29193902, 0.64250207], dtype=float32)]"
            ]
          },
          "metadata": {},
          "execution_count": 5
        }
      ],
      "source": [
        "tf.random.set_seed(1)\n",
        "t = tf.random.uniform((6,))\n",
        "print(t.numpy())\n",
        "t_splits = tf.split(t,3) # tách tensor 6 làm 3 phần\n",
        "[item.numpy() for item in t_splits]"
      ]
    },
    {
      "cell_type": "code",
      "source": [
        "A = tf.ones((3,))\n",
        "B = tf.zeros((2,))\n",
        "C = tf.concat([A,B],axis=0)\n",
        "print(C.numpy())"
      ],
      "metadata": {
        "colab": {
          "base_uri": "https://localhost:8080/"
        },
        "id": "vu4Pglwpxsmq",
        "outputId": "fe52c80e-0d73-4a2c-a3d7-e626e357f0e9"
      },
      "execution_count": null,
      "outputs": [
        {
          "output_type": "stream",
          "name": "stdout",
          "text": [
            "[1. 1. 1. 0. 0.]\n"
          ]
        }
      ]
    },
    {
      "cell_type": "code",
      "source": [
        "A = tf.ones((3,))\n",
        "B = tf.zeros((3,))\n",
        "S = tf.stack([A,B],axis=1)\n",
        "print(S.numpy())"
      ],
      "metadata": {
        "colab": {
          "base_uri": "https://localhost:8080/"
        },
        "id": "NxwSV3Xlx1Sr",
        "outputId": "f0f468b7-ef0f-4e1e-f36b-c81401affcef"
      },
      "execution_count": null,
      "outputs": [
        {
          "output_type": "stream",
          "name": "stdout",
          "text": [
            "[[1. 0.]\n",
            " [1. 0.]\n",
            " [1. 0.]]\n"
          ]
        }
      ]
    },
    {
      "cell_type": "code",
      "source": [
        "a = [1.2,3.4,7.5,4.1,5.0,1.0]\n",
        "ds = tf.data.Dataset.from_tensor_slices(a)\n",
        "print(ds)"
      ],
      "metadata": {
        "colab": {
          "base_uri": "https://localhost:8080/"
        },
        "id": "kJ8_dsYKyMd1",
        "outputId": "382dc257-0912-4e07-9a14-77e563edc43f"
      },
      "execution_count": null,
      "outputs": [
        {
          "output_type": "stream",
          "name": "stdout",
          "text": [
            "<_TensorSliceDataset element_spec=TensorSpec(shape=(), dtype=tf.float32, name=None)>\n"
          ]
        }
      ]
    },
    {
      "cell_type": "code",
      "source": [
        "for item in ds:\n",
        "  print(item)"
      ],
      "metadata": {
        "colab": {
          "base_uri": "https://localhost:8080/"
        },
        "id": "sB8kS2AUyaa2",
        "outputId": "9dec0a10-aa61-4c83-ea88-1fcc7ac9b4df"
      },
      "execution_count": null,
      "outputs": [
        {
          "output_type": "stream",
          "name": "stdout",
          "text": [
            "tf.Tensor(1.2, shape=(), dtype=float32)\n",
            "tf.Tensor(3.4, shape=(), dtype=float32)\n",
            "tf.Tensor(7.5, shape=(), dtype=float32)\n",
            "tf.Tensor(4.1, shape=(), dtype=float32)\n",
            "tf.Tensor(5.0, shape=(), dtype=float32)\n",
            "tf.Tensor(1.0, shape=(), dtype=float32)\n"
          ]
        }
      ]
    },
    {
      "cell_type": "code",
      "source": [
        "ds_batch = ds.batch(3)\n",
        "for i, elem in enumerate(ds_batch,100):\n",
        "  print('batch {}:'.format(i),elem.numpy())"
      ],
      "metadata": {
        "colab": {
          "base_uri": "https://localhost:8080/"
        },
        "id": "BnE7rrh4y-uu",
        "outputId": "34be848a-124b-44df-d65b-0ae75409d0f1"
      },
      "execution_count": null,
      "outputs": [
        {
          "output_type": "stream",
          "name": "stdout",
          "text": [
            "batch 0: [1.2 3.4 7.5]\n",
            "batch 1: [4.1 5.  1. ]\n"
          ]
        }
      ]
    },
    {
      "cell_type": "markdown",
      "source": [
        "## Join 2 tensor"
      ],
      "metadata": {
        "id": "aICAy3VLzaUf"
      }
    },
    {
      "cell_type": "code",
      "source": [
        "tf.random.set_seed(1)\n",
        "t_x = tf.random.uniform([4,3],dtype=tf.float32)\n",
        "t_y = tf.range(4)\n",
        "print(t_x)\n",
        "print(t_y)"
      ],
      "metadata": {
        "colab": {
          "base_uri": "https://localhost:8080/"
        },
        "id": "ObFWMBSgzewy",
        "outputId": "1414d6cb-f032-4d18-b4d4-9115cfb261be"
      },
      "execution_count": null,
      "outputs": [
        {
          "output_type": "stream",
          "name": "stdout",
          "text": [
            "tf.Tensor(\n",
            "[[0.16513085 0.9014813  0.6309742 ]\n",
            " [0.4345461  0.29193902 0.64250207]\n",
            " [0.9757855  0.43509948 0.6601019 ]\n",
            " [0.60489583 0.6366315  0.6144488 ]], shape=(4, 3), dtype=float32)\n",
            "tf.Tensor([0 1 2 3], shape=(4,), dtype=int32)\n"
          ]
        }
      ]
    },
    {
      "cell_type": "code",
      "source": [
        "ds_x = tf.data.Dataset.from_tensor_slices(t_x)\n",
        "ds_y = tf.data.Dataset.from_tensor_slices(t_y)\n",
        "ds_joint = tf.data.Dataset.zip((ds_x,ds_y))\n",
        "for item in ds_joint:\n",
        "  print(' x:', item[0].numpy(),\n",
        "        ' y:',item[1].numpy())"
      ],
      "metadata": {
        "colab": {
          "base_uri": "https://localhost:8080/"
        },
        "id": "SWaMIESOzdzw",
        "outputId": "16982f74-d2e8-4630-b3e3-b8526a2eb829"
      },
      "execution_count": null,
      "outputs": [
        {
          "output_type": "stream",
          "name": "stdout",
          "text": [
            " x: [0.16513085 0.9014813  0.6309742 ]  y: 0\n",
            " x: [0.4345461  0.29193902 0.64250207]  y: 1\n",
            " x: [0.9757855  0.43509948 0.6601019 ]  y: 2\n",
            " x: [0.60489583 0.6366315  0.6144488 ]  y: 3\n"
          ]
        }
      ]
    },
    {
      "cell_type": "code",
      "source": [
        "ds_trans = ds_joint.map(lambda x,y:(x*2-1.0,y))\n",
        "for item in ds_trans:\n",
        "  print(' x:', item[0].numpy(),\n",
        "        ' y:',item[1].numpy())"
      ],
      "metadata": {
        "colab": {
          "base_uri": "https://localhost:8080/"
        },
        "id": "SSEe65u_0J1p",
        "outputId": "a62f04a0-4ea6-4738-97cb-c9ab5a9ec3da"
      },
      "execution_count": null,
      "outputs": [
        {
          "output_type": "stream",
          "name": "stdout",
          "text": [
            " x: [-0.6697383   0.80296254  0.26194835]  y: 0\n",
            " x: [-0.13090777 -0.41612196  0.28500414]  y: 1\n",
            " x: [ 0.951571   -0.12980103  0.32020378]  y: 2\n",
            " x: [0.20979166 0.27326298 0.22889757]  y: 3\n"
          ]
        }
      ]
    },
    {
      "cell_type": "markdown",
      "source": [
        "## shuffle(), batch(), repeat()"
      ],
      "metadata": {
        "id": "TK6d-fdQ0ycC"
      }
    },
    {
      "cell_type": "code",
      "source": [
        "tf.random.set_seed(1)\n",
        "ds = ds_joint.shuffle(buffer_size=len(t_x))\n",
        "for e in ds:\n",
        "  print(' x:', e[0].numpy(),\n",
        "        ' y:',e[1].numpy())"
      ],
      "metadata": {
        "colab": {
          "base_uri": "https://localhost:8080/"
        },
        "id": "5qilPfsM059g",
        "outputId": "ca5b0b82-724c-4010-e55e-142c23142ab3"
      },
      "execution_count": null,
      "outputs": [
        {
          "output_type": "stream",
          "name": "stdout",
          "text": [
            " x: [0.9757855  0.43509948 0.6601019 ]  y: 2\n",
            " x: [0.4345461  0.29193902 0.64250207]  y: 1\n",
            " x: [0.16513085 0.9014813  0.6309742 ]  y: 0\n",
            " x: [0.60489583 0.6366315  0.6144488 ]  y: 3\n"
          ]
        }
      ]
    },
    {
      "cell_type": "code",
      "source": [
        "ds = ds_joint.batch(batch_size=3,drop_remainder=False)\n",
        "batch_x,batch_y = next(iter(ds))\n",
        "print('batch x:\\n',batch_x.numpy())\n",
        "print('batch y:\\n',batch_y.numpy())"
      ],
      "metadata": {
        "colab": {
          "base_uri": "https://localhost:8080/"
        },
        "id": "BAKIVoFr1JtG",
        "outputId": "6f8c7c3f-3490-4a17-8b82-0dc8b9a5f96c"
      },
      "execution_count": null,
      "outputs": [
        {
          "output_type": "stream",
          "name": "stdout",
          "text": [
            "batch x:\n",
            " [[0.16513085 0.9014813  0.6309742 ]\n",
            " [0.4345461  0.29193902 0.64250207]\n",
            " [0.9757855  0.43509948 0.6601019 ]]\n",
            "batch y:\n",
            " [0 1 2]\n"
          ]
        }
      ]
    },
    {
      "cell_type": "code",
      "source": [
        "ds = ds_joint.batch(3).repeat(count=2)\n",
        "for i,(batch_x,batch_y) in enumerate(ds):\n",
        "  print(i,batch_x.numpy(),batch_y.numpy())"
      ],
      "metadata": {
        "colab": {
          "base_uri": "https://localhost:8080/"
        },
        "id": "u01G2ywC1TNW",
        "outputId": "cbd70375-e57f-45a1-df14-006fc889a67c"
      },
      "execution_count": null,
      "outputs": [
        {
          "output_type": "stream",
          "name": "stdout",
          "text": [
            "0 [[0.16513085 0.9014813  0.6309742 ]\n",
            " [0.4345461  0.29193902 0.64250207]\n",
            " [0.9757855  0.43509948 0.6601019 ]] [0 1 2]\n",
            "1 [[0.60489583 0.6366315  0.6144488 ]] [3]\n",
            "2 [[0.16513085 0.9014813  0.6309742 ]\n",
            " [0.4345461  0.29193902 0.64250207]\n",
            " [0.9757855  0.43509948 0.6601019 ]] [0 1 2]\n",
            "3 [[0.60489583 0.6366315  0.6144488 ]] [3]\n"
          ]
        }
      ]
    },
    {
      "cell_type": "code",
      "source": [
        "tf.random.set_seed(1)\n",
        "ds = ds_joint.shuffle(4).batch(2).repeat(20)\n",
        "for i,(batch_x,batch_y) in enumerate(ds):\n",
        "  print(i,batch_x.numpy(),batch_y.numpy())"
      ],
      "metadata": {
        "colab": {
          "base_uri": "https://localhost:8080/"
        },
        "id": "boDzi-x81o-H",
        "outputId": "24aaa397-b278-421f-8f3a-d63cbd523108"
      },
      "execution_count": null,
      "outputs": [
        {
          "output_type": "stream",
          "name": "stdout",
          "text": [
            "0 [[0.9757855  0.43509948 0.6601019 ]\n",
            " [0.4345461  0.29193902 0.64250207]] [2 1]\n",
            "1 [[0.16513085 0.9014813  0.6309742 ]\n",
            " [0.60489583 0.6366315  0.6144488 ]] [0 3]\n",
            "2 [[0.16513085 0.9014813  0.6309742 ]\n",
            " [0.60489583 0.6366315  0.6144488 ]] [0 3]\n",
            "3 [[0.4345461  0.29193902 0.64250207]\n",
            " [0.9757855  0.43509948 0.6601019 ]] [1 2]\n",
            "4 [[0.60489583 0.6366315  0.6144488 ]\n",
            " [0.16513085 0.9014813  0.6309742 ]] [3 0]\n",
            "5 [[0.4345461  0.29193902 0.64250207]\n",
            " [0.9757855  0.43509948 0.6601019 ]] [1 2]\n"
          ]
        }
      ]
    }
  ]
}
